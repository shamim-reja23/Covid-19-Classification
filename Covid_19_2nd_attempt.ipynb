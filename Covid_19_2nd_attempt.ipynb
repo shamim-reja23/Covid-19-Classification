{
  "nbformat": 4,
  "nbformat_minor": 0,
  "metadata": {
    "colab": {
      "provenance": [],
      "mount_file_id": "1rW6MykJraFbnqmDQ3JYEqQMX6YAaugqL",
      "authorship_tag": "ABX9TyMJMCsttFXznWNeuXlxLZNe",
      "include_colab_link": true
    },
    "kernelspec": {
      "name": "python3",
      "display_name": "Python 3"
    },
    "language_info": {
      "name": "python"
    }
  },
  "cells": [
    {
      "cell_type": "markdown",
      "metadata": {
        "id": "view-in-github",
        "colab_type": "text"
      },
      "source": [
        "<a href=\"https://colab.research.google.com/github/shamim-reja23/Covid-19-Classification/blob/main/Covid_19_2nd_attempt.ipynb\" target=\"_parent\"><img src=\"https://colab.research.google.com/assets/colab-badge.svg\" alt=\"Open In Colab\"/></a>"
      ]
    },
    {
      "cell_type": "code",
      "execution_count": null,
      "metadata": {
        "id": "P5JIWUigr0OR"
      },
      "outputs": [],
      "source": [
        "import pandas as pd\n",
        "import numpy as np\n",
        "import matplotlib.pyplot as plt\n",
        "import seaborn as sns\n",
        "\n",
        "\n",
        "data = pd.read_excel('/content/drive/MyDrive/dataset.xlsx')"
      ]
    },
    {
      "cell_type": "code",
      "source": [
        "print(f'The data has {data.shape[0]} rows and {data.shape[1]} columns.\\n')\n",
        "total_na_percentage = data.isna().sum().sum() / (data.shape[0] * data.shape[1]) * 100\n",
        "print(f'The total percentage of missing value is: {total_na_percentage}%')\n",
        "print(f'Percentage of positive cases: {data[\"SARS-Cov-2 exam result\"].value_counts()[1]/data.shape[0]*100}%')\n",
        "\n",
        "fig, axes = plt.subplots(figsize=(15, 5))\n",
        "axes.bar(data.columns, data.isna().sum()/data.shape[0]*100)\n",
        "axes.set_title('% of missing values per column')\n",
        "axes.set_xlabel('Columns')\n",
        "axes.set_ylabel('% of missing values')\n",
        "axes.set_xticklabels([])  # Hide x-axis labels\n",
        "plt.show()"
      ],
      "metadata": {
        "colab": {
          "base_uri": "https://localhost:8080/",
          "height": 600
        },
        "id": "ei-lKaqAsgnw",
        "outputId": "226a2e87-e048-49c4-9266-fa0a51dbb7bb"
      },
      "execution_count": null,
      "outputs": [
        {
          "output_type": "stream",
          "name": "stdout",
          "text": [
            "The data has 5644 rows and 110 columns.\n",
            "\n",
            "The total percentage of missing value is: 87.95148508472393%\n",
            "Percentage of positive cases: 9.886605244507441%\n"
          ]
        },
        {
          "output_type": "stream",
          "name": "stderr",
          "text": [
            "<ipython-input-2-92fea9399993>:4: FutureWarning: Series.__getitem__ treating keys as positions is deprecated. In a future version, integer keys will always be treated as labels (consistent with DataFrame behavior). To access a value by position, use `ser.iloc[pos]`\n",
            "  print(f'Percentage of positive cases: {data[\"SARS-Cov-2 exam result\"].value_counts()[1]/data.shape[0]*100}%')\n"
          ]
        },
        {
          "output_type": "display_data",
          "data": {
            "text/plain": [
              "<Figure size 1500x500 with 1 Axes>"
            ],
            "image/png": "[encoded data removed]"
          },
          "metadata": {}
        }
      ]
    },
    {
      "cell_type": "code",
      "source": [
        "# Remove all atributes with less than 5% of present data\n",
        "\n",
        "data.drop_duplicates(inplace=True)\n",
        "for col_name, col in data.items():\n",
        "    if data[col_name].isna().sum()/data.shape[0] > 0.95:\n",
        "        data.drop([col_name], axis=1, inplace=True)"
      ],
      "metadata": {
        "id": "ab0jY8U-wmUC"
      },
      "execution_count": null,
      "outputs": []
    },
    {
      "cell_type": "code",
      "source": [
        "# Transforming categorical classes into numeric classes\n",
        "# Considering missing data on categorical exams as negatives\n",
        "\n",
        "bin_attributes = ['Respiratory Syncytial Virus', 'Influenza A', 'Influenza B', 'Parainfluenza 1',\n",
        "                'CoronavirusNL63', 'Rhinovirus/Enterovirus', 'Coronavirus HKU1', 'Parainfluenza 3',\n",
        "                'Chlamydophila pneumoniae', 'Adenovirus', 'Parainfluenza 4', 'Coronavirus229E',\n",
        "                'CoronavirusOC43', 'Inf A H1N1 2009', 'Bordetella pertussis', 'Metapneumovirus', 'Parainfluenza 2', 'Strepto A']\n",
        "\n",
        "for col_name in bin_attributes:\n",
        "    data[col_name].fillna('negative', inplace=True)\n",
        "\n",
        "data.replace(to_replace='not_detected', value=int(0), inplace=True)\n",
        "data.replace(to_replace='detected', value=int(1), inplace=True)\n",
        "data.replace(to_replace='negative', value=int(0), inplace=True)\n",
        "data.replace(to_replace='positive', value=int(1), inplace=True)"
      ],
      "metadata": {
        "id": "Kl9Y-0jyw6JP",
        "colab": {
          "base_uri": "https://localhost:8080/"
        },
        "outputId": "f0ea2dca-0f7e-479b-9020-39568766a7d8"
      },
      "execution_count": null,
      "outputs": [
        {
          "output_type": "stream",
          "name": "stderr",
          "text": [
            "<ipython-input-4-e18408fbda5d>:10: FutureWarning: A value is trying to be set on a copy of a DataFrame or Series through chained assignment using an inplace method.\n",
            "The behavior will change in pandas 3.0. This inplace method will never work because the intermediate object on which we are setting values always behaves as a copy.\n",
            "\n",
            "For example, when doing 'df[col].method(value, inplace=True)', try using 'df.method({col: value}, inplace=True)' or df[col] = df[col].method(value) instead, to perform the operation inplace on the original object.\n",
            "\n",
            "\n",
            "  data[col_name].fillna('negative', inplace=True)\n",
            "<ipython-input-4-e18408fbda5d>:14: FutureWarning: Downcasting behavior in `replace` is deprecated and will be removed in a future version. To retain the old behavior, explicitly call `result.infer_objects(copy=False)`. To opt-in to the future behavior, set `pd.set_option('future.no_silent_downcasting', True)`\n",
            "  data.replace(to_replace='negative', value=int(0), inplace=True)\n",
            "<ipython-input-4-e18408fbda5d>:15: FutureWarning: Downcasting behavior in `replace` is deprecated and will be removed in a future version. To retain the old behavior, explicitly call `result.infer_objects(copy=False)`. To opt-in to the future behavior, set `pd.set_option('future.no_silent_downcasting', True)`\n",
            "  data.replace(to_replace='positive', value=int(1), inplace=True)\n"
          ]
        }
      ]
    },
    {
      "cell_type": "code",
      "source": [
        "# Remove unnecessary attributes\n",
        "\n",
        "data.drop(['Patient ID', 'Influenza A, rapid test', 'Influenza B, rapid test'], axis=1, inplace=True)"
      ],
      "metadata": {
        "id": "ychlGtdrxDDU"
      },
      "execution_count": null,
      "outputs": []
    },
    {
      "cell_type": "code",
      "source": [
        "data.drop(['Patient addmited to semi-intensive unit (1=yes, 0=no)', 'Patient addmited to intensive care unit (1=yes, 0=no)', 'Patient addmited to regular ward (1=yes, 0=no)'], axis=1, inplace=True)"
      ],
      "metadata": {
        "id": "CvcNpfAFxXWC"
      },
      "execution_count": null,
      "outputs": []
    },
    {
      "cell_type": "code",
      "source": [
        "# Cut all the rows that lack more than 80% of data\n",
        "\n",
        "for row_index, row in data.iterrows():\n",
        "    if row.isna().sum()/data.shape[1] > 0.20:\n",
        "        data.drop([row_index], inplace=True)\n",
        "data.reset_index(inplace=True, drop=True)\n",
        "\n",
        "# Fill the missing data\n",
        "\n",
        "data.loc[data['SARS-Cov-2 exam result'] == 1] = data[data['SARS-Cov-2 exam result'] == 1].fillna(data[data['SARS-Cov-2 exam result'] == 1].mean())\n",
        "data.loc[data['SARS-Cov-2 exam result'] == 0] = data[data['SARS-Cov-2 exam result'] == 0].fillna(data[data['SARS-Cov-2 exam result'] == 0].mean())\n"
      ],
      "metadata": {
        "id": "5fAYRy43xzxC",
        "colab": {
          "base_uri": "https://localhost:8080/"
        },
        "outputId": "f6231e0e-17a1-4e6c-ab62-576f602142ae"
      },
      "execution_count": null,
      "outputs": [
        {
          "output_type": "stream",
          "name": "stderr",
          "text": [
            "<ipython-input-7-aa7b7258c7c9>:10: FutureWarning: Downcasting object dtype arrays on .fillna, .ffill, .bfill is deprecated and will change in a future version. Call result.infer_objects(copy=False) instead. To opt-in to the future behavior, set `pd.set_option('future.no_silent_downcasting', True)`\n",
            "  data.loc[data['SARS-Cov-2 exam result'] == 1] = data[data['SARS-Cov-2 exam result'] == 1].fillna(data[data['SARS-Cov-2 exam result'] == 1].mean())\n",
            "<ipython-input-7-aa7b7258c7c9>:11: FutureWarning: Downcasting object dtype arrays on .fillna, .ffill, .bfill is deprecated and will change in a future version. Call result.infer_objects(copy=False) instead. To opt-in to the future behavior, set `pd.set_option('future.no_silent_downcasting', True)`\n",
            "  data.loc[data['SARS-Cov-2 exam result'] == 0] = data[data['SARS-Cov-2 exam result'] == 0].fillna(data[data['SARS-Cov-2 exam result'] == 0].mean())\n"
          ]
        }
      ]
    },
    {
      "cell_type": "code",
      "source": [
        "to_be_ploted = ['Platelets', 'Leukocytes', 'Monocytes',  'Proteina C reativa mg/dL']\n",
        "\n",
        "columns = 3\n",
        "rows = 2\n",
        "fig=plt.figure(figsize=(20,10))\n",
        "x = fig.add_subplot(rows, columns, 1)\n",
        "sizes = [data['SARS-Cov-2 exam result'].value_counts()[0], data['SARS-Cov-2 exam result'].value_counts()[1]]\n",
        "labels = ['Negatives', 'Positives']\n",
        "x.pie(sizes, labels=labels, autopct='%1.1f%%', shadow=True)\n",
        "x.set_title('% of positive and negative SARS-Cov cases')\n",
        "\n",
        "\n",
        "total_na_percentage = data.isna().sum().sum() / (data.shape[0] * data.shape[1]) * 100\n",
        "print(f'The percentage of missing values is: {total_na_percentage:.1f}%')"
      ],
      "metadata": {
        "colab": {
          "base_uri": "https://localhost:8080/",
          "height": 427
        },
        "id": "kK3Krpixyx2H",
        "outputId": "cc11a34e-9695-49dd-d225-6c7424fa7a6d"
      },
      "execution_count": null,
      "outputs": [
        {
          "output_type": "stream",
          "name": "stdout",
          "text": [
            "The percentage of missing values is: 0.0%\n"
          ]
        },
        {
          "output_type": "display_data",
          "data": {
            "text/plain": [
              "<Figure size 2000x1000 with 1 Axes>"
            ],
            "image/png": "[encoded data removed]"
          },
          "metadata": {}
        }
      ]
    },
    {
      "cell_type": "code",
      "source": [
        "print(f'The data has {data.shape[0]} rows and {data.shape[1]} columns.\\n')\n",
        "total_na_percentage = data.isna().sum().sum() / (data.shape[0] * data.shape[1]) * 100\n",
        "print(f'The percentage of missing values is: {total_na_percentage:.1f}%')\n"
      ],
      "metadata": {
        "colab": {
          "base_uri": "https://localhost:8080/"
        },
        "id": "Ky6h5Qc_1GiD",
        "outputId": "41fa99e5-bf06-403d-8f4c-80a2de9e484e"
      },
      "execution_count": null,
      "outputs": [
        {
          "output_type": "stream",
          "name": "stdout",
          "text": [
            "The data has 602 rows and 40 columns.\n",
            "\n",
            "The percentage of missing values is: 0.0%\n"
          ]
        }
      ]
    },
    {
      "cell_type": "code",
      "source": [
        "print(data)"
      ],
      "metadata": {
        "colab": {
          "base_uri": "https://localhost:8080/"
        },
        "id": "ofUfUW87aab7",
        "outputId": "460d8302-2a56-48d1-847e-53970cf6dd71"
      },
      "execution_count": null,
      "outputs": [
        {
          "output_type": "stream",
          "name": "stdout",
          "text": [
            "     Patient age quantile  SARS-Cov-2 exam result  Hematocrit  Hemoglobin  \\\n",
            "0                      17                       0    0.236515   -0.022340   \n",
            "1                       1                       0   -1.571682   -0.774212   \n",
            "2                       9                       0   -0.747693   -0.586244   \n",
            "3                      11                       0    0.991838    0.792188   \n",
            "4                       9                       0    0.190738   -0.147652   \n",
            "..                    ...                     ...         ...         ...   \n",
            "597                    19                       0    0.190738    0.165628   \n",
            "598                    19                       0   -0.289922   -0.523588   \n",
            "599                    15                       0    0.717175    1.105468   \n",
            "600                    17                       0   -3.242548   -2.779203   \n",
            "601                    19                       1    0.694287    0.541564   \n",
            "\n",
            "     Platelets  Mean platelet volume   Red blood Cells  Lymphocytes  \\\n",
            "0    -0.517413               0.010677         0.102004     0.318366   \n",
            "1     1.429667              -1.672222        -0.850035    -0.005738   \n",
            "2    -0.429480              -0.213711        -1.361315    -1.114514   \n",
            "3     0.072992              -0.550290         0.542763     0.045436   \n",
            "4    -0.668155               1.020415        -0.127191     0.002791   \n",
            "..         ...                    ...              ...          ...   \n",
            "597  -0.102873               0.908221         0.384090    -1.583611   \n",
            "598   0.663397              -0.774677         0.754327    -1.532437   \n",
            "599  -0.492289              -0.213711         0.613284     0.002791   \n",
            "600  -1.773594              -0.550290        -3.318285    -1.830953   \n",
            "601  -0.906829              -0.325903         0.578024    -0.295726   \n",
            "\n",
            "     Mean corpuscular hemoglobin concentration (MCHC)  Leukocytes  ...  \\\n",
            "0                                           -0.950790   -0.094610  ...   \n",
            "1                                            3.331071    0.364550  ...   \n",
            "2                                            0.542882   -0.884923  ...   \n",
            "3                                           -0.452899   -0.211488  ...   \n",
            "4                                           -1.249524   -1.132592  ...   \n",
            "..                                                ...         ...  ...   \n",
            "597                                         -0.054585   -0.328365  ...   \n",
            "598                                         -1.050367    1.569499  ...   \n",
            "599                                          1.538664   -0.550988  ...   \n",
            "600                                          1.538664   -1.733675  ...   \n",
            "601                                         -0.353319   -1.288428  ...   \n",
            "\n",
            "     Bordetella pertussis  Metapneumovirus  Parainfluenza 2  Neutrophils  \\\n",
            "0                       0                0                0    -0.619086   \n",
            "1                       0                0                0    -0.127395   \n",
            "2                       0                0                0     0.880570   \n",
            "3                       0                0                0     0.265957   \n",
            "4                       0                0                0    -0.422410   \n",
            "..                    ...              ...              ...          ...   \n",
            "597                     0                0                0     1.118221   \n",
            "598                     0                0                0     1.134611   \n",
            "599                     0                0                0    -0.061837   \n",
            "600                     0                0                0     1.552548   \n",
            "601                     0                0                0     0.380685   \n",
            "\n",
            "         Urea  Proteina C reativa mg/dL  Creatinine  Potassium    Sodium  \\\n",
            "0    1.198059                 -0.147895    2.089928  -0.305787  0.862512   \n",
            "1   -0.067309                 -0.286986   -1.838623   0.930020  0.503132   \n",
            "2   -0.811643                 -0.025632   -0.908177   0.435697 -0.215628   \n",
            "3    0.030095                 -0.487674   -0.029088   0.035644  0.041734   \n",
            "4   -1.332677                 -0.025632   -0.908177  -0.552949 -0.575008   \n",
            "..        ...                       ...         ...        ...       ...   \n",
            "597  0.379292                  3.627427    0.470262   0.188535 -5.246946   \n",
            "598 -0.067309                  5.733660    0.504723  -0.552949 -0.215628   \n",
            "599 -0.365042                  0.561468   -0.494645   0.435697  0.143752   \n",
            "600  2.240127                  0.609157    0.470262  -0.305787 -1.293767   \n",
            "601  0.453725                 -0.503570   -0.735872  -0.552949 -0.934388   \n",
            "\n",
            "     Strepto A  \n",
            "0            0  \n",
            "1            0  \n",
            "2            0  \n",
            "3            0  \n",
            "4            0  \n",
            "..         ...  \n",
            "597          0  \n",
            "598          0  \n",
            "599          0  \n",
            "600          0  \n",
            "601          0  \n",
            "\n",
            "[602 rows x 40 columns]\n"
          ]
        }
      ]
    },
    {
      "cell_type": "code",
      "source": [
        "# Spliting target column\n",
        "\n",
        "data_y_sars = data.iloc[:, 1]\n",
        "data_x = data.drop(['SARS-Cov-2 exam result'], axis=1)\n",
        "\n",
        "from sklearn.preprocessing import MinMaxScaler\n",
        "scaler = MinMaxScaler(feature_range=(0, 1))\n",
        "for col_name, col in data_x.items():\n",
        "    data_x[col_name] = scaler.fit_transform(data_x[col_name].values.reshape(-1,1))\n",
        "\n",
        "sars_data = pd.concat([data_x, data_y_sars], axis=1)\n",
        "admition_data = pd.concat([data_x], axis=1)"
      ],
      "metadata": {
        "id": "BrnByqTNi7be"
      },
      "execution_count": null,
      "outputs": []
    },
    {
      "cell_type": "code",
      "source": [
        "# Using KFold cross validation\n",
        "\n",
        "from sklearn.model_selection import KFold\n",
        "kf = KFold(n_splits=5, shuffle=True, random_state=13)\n"
      ],
      "metadata": {
        "id": "J1SORUsHjTAT"
      },
      "execution_count": null,
      "outputs": []
    },
    {
      "cell_type": "code",
      "source": [
        "# Defining evaluation for model fit and scores and cross_validation for kfold and train-test division within each fold\n",
        "\n",
        "from sklearn.ensemble import RandomForestClassifier\n",
        "from sklearn.tree import DecisionTreeClassifier\n",
        "from sklearn.neural_network import MLPClassifier\n",
        "from xgboost import XGBClassifier\n",
        "\n",
        "from sklearn.metrics import recall_score\n",
        "from sklearn.metrics import f1_score\n",
        "from sklearn.metrics import accuracy_score\n",
        "\n",
        "def evaluate(model, x_train, x_test, y_train, y_test):\n",
        "    model.fit(x_train, y_train)\n",
        "    y_predicted = model.predict(x_test)\n",
        "    recall = recall_score(y_test, y_predicted)\n",
        "    acc = accuracy_score(y_test, y_predicted)\n",
        "    f1 = f1_score(y_test, y_predicted)\n",
        "    return acc, recall, f1\n",
        "\n",
        "def cross_validation(kf, model, data):\n",
        "    acc = []\n",
        "    recall = []\n",
        "    f1 = []\n",
        "    for train_index, test_index in kf.split(data):\n",
        "        x_train, x_test = data.iloc[train_index, :-1], data.iloc[test_index, :-1]\n",
        "        y_train, y_test = data.iloc[train_index, -1], data.iloc[test_index, -1]\n",
        "        acc_, recall_, f1_ = evaluate(model, x_train, x_test, y_train, y_test)\n",
        "        acc.append(acc_)\n",
        "        recall.append(recall_)\n",
        "        f1.append(f1_)\n",
        "    print(f'Model Params = {model.get_params()}')\n",
        "    print(f'Accuracy = {np.mean(acc):.3f} +/- {np.std(acc):.3f}')\n",
        "    print(f'Recall = {np.mean(recall):.3f} +/- {np.std(recall):.3f}')\n",
        "    print(f'F1 = {np.mean(f1):.3f} +/- {np.std(f1):.3f}')\n",
        "    print(f'Best Accuracy = {np.max(acc):.3f}')\n",
        "    print(f'Best Recall = {np.max(recall):.3f}')\n",
        "    print(f'Best F1 = {np.max(f1):.3f}')\n",
        "    return np.mean(acc), np.mean(recall), np.mean(f1), np.max(acc), np.max(recall), np.max(f1)"
      ],
      "metadata": {
        "id": "voJyW7iwjfhR"
      },
      "execution_count": null,
      "outputs": []
    },
    {
      "cell_type": "code",
      "source": [],
      "metadata": {
        "id": "ueBW4VSkiC_Z"
      },
      "execution_count": null,
      "outputs": []
    },
    {
      "cell_type": "code",
      "source": [
        "models = []\n",
        "acc_results = []\n",
        "recall_results = []\n",
        "f1_results = []"
      ],
      "metadata": {
        "id": "qsNupyyJkFWj"
      },
      "execution_count": null,
      "outputs": []
    },
    {
      "cell_type": "code",
      "source": [
        "# Random Forest Classifier\n",
        "\n",
        "rfc_model = RandomForestClassifier(n_estimators=100, max_depth=10)\n",
        "\n",
        "#Traing model\n",
        "\n",
        "acc_rfc, recall_rfc, f1_rfc, max_acc_rfc, max_recall_rfc, max_f1_rfc = cross_validation(kf, rfc_model, sars_data)\n",
        "models.append('RFC')\n",
        "acc_results.append(max_acc_rfc)\n",
        "recall_results.append(max_recall_rfc)\n",
        "f1_results.append(max_f1_rfc)\n"
      ],
      "metadata": {
        "colab": {
          "base_uri": "https://localhost:8080/"
        },
        "id": "z-da-YMTkNx1",
        "outputId": "bfd39a2c-4fc7-47ac-d222-663d0ca587d4"
      },
      "execution_count": null,
      "outputs": [
        {
          "output_type": "stream",
          "name": "stdout",
          "text": [
            "Model Params = {'bootstrap': True, 'ccp_alpha': 0.0, 'class_weight': None, 'criterion': 'gini', 'max_depth': 10, 'max_features': 'sqrt', 'max_leaf_nodes': None, 'max_samples': None, 'min_impurity_decrease': 0.0, 'min_samples_leaf': 1, 'min_samples_split': 2, 'min_weight_fraction_leaf': 0.0, 'monotonic_cst': None, 'n_estimators': 100, 'n_jobs': None, 'oob_score': False, 'random_state': None, 'verbose': 0, 'warm_start': False}\n",
            "Accuracy = 0.910 +/- 0.019\n",
            "Recall = 0.400 +/- 0.041\n",
            "F1 = 0.547 +/- 0.050\n",
            "Best Accuracy = 0.942\n",
            "Best Recall = 0.444\n",
            "Best F1 = 0.600\n"
          ]
        }
      ]
    },
    {
      "cell_type": "code",
      "source": [
        "# Decision Tree Classifier\n",
        "\n",
        "dtc_model = DecisionTreeClassifier(random_state=13)\n",
        "\n",
        "#Training model\n",
        "\n",
        "acc_dtc, recall_dtc, f1_dtc, max_acc_dtc, max_recall_dtc, max_f1_dtc = cross_validation(kf, dtc_model, sars_data)\n",
        "models.append('DTC')\n",
        "acc_results.append(max_acc_dtc)\n",
        "recall_results.append(max_recall_dtc)\n",
        "f1_results.append(max_f1_dtc)"
      ],
      "metadata": {
        "colab": {
          "base_uri": "https://localhost:8080/"
        },
        "id": "s1dkyw9Hlvm-",
        "outputId": "438cc8d7-b991-4998-9770-800fd5d34aeb"
      },
      "execution_count": null,
      "outputs": [
        {
          "output_type": "stream",
          "name": "stdout",
          "text": [
            "Model Params = {'ccp_alpha': 0.0, 'class_weight': None, 'criterion': 'gini', 'max_depth': None, 'max_features': None, 'max_leaf_nodes': None, 'min_impurity_decrease': 0.0, 'min_samples_leaf': 1, 'min_samples_split': 2, 'min_weight_fraction_leaf': 0.0, 'monotonic_cst': None, 'random_state': 13, 'splitter': 'best'}\n",
            "Accuracy = 0.864 +/- 0.022\n",
            "Recall = 0.468 +/- 0.111\n",
            "F1 = 0.473 +/- 0.084\n",
            "Best Accuracy = 0.892\n",
            "Best Recall = 0.632\n",
            "Best F1 = 0.615\n"
          ]
        }
      ]
    },
    {
      "cell_type": "code",
      "source": [
        "# Multi Layer Perception\n",
        "\n",
        "mlp_model = MLPClassifier(hidden_layer_sizes=[50, 50, 50], activation='relu', solver ='adam', max_iter=10000000, learning_rate_init=0.1, alpha=0.02, learning_rate='adaptive')\n",
        "\n",
        "#Training model\n",
        "\n",
        "acc_mlp, recall_mlp, f1_mlp, max_acc_mlp, max_recall_mlp, max_f1_mlp = cross_validation(kf, mlp_model, sars_data)\n",
        "models.append('SKL_MLP')\n",
        "acc_results.append(max_acc_mlp)\n",
        "recall_results.append(max_recall_mlp)\n",
        "f1_results.append(max_f1_mlp)"
      ],
      "metadata": {
        "colab": {
          "base_uri": "https://localhost:8080/"
        },
        "id": "sm4n8CNamQQT",
        "outputId": "116be8cc-848d-4883-c768-d2af6318daf4"
      },
      "execution_count": null,
      "outputs": [
        {
          "output_type": "stream",
          "name": "stdout",
          "text": [
            "Model Params = {'activation': 'relu', 'alpha': 0.02, 'batch_size': 'auto', 'beta_1': 0.9, 'beta_2': 0.999, 'early_stopping': False, 'epsilon': 1e-08, 'hidden_layer_sizes': [50, 50, 50], 'learning_rate': 'adaptive', 'learning_rate_init': 0.1, 'max_fun': 15000, 'max_iter': 10000000, 'momentum': 0.9, 'n_iter_no_change': 10, 'nesterovs_momentum': True, 'power_t': 0.5, 'random_state': None, 'shuffle': True, 'solver': 'adam', 'tol': 0.0001, 'validation_fraction': 0.1, 'verbose': False, 'warm_start': False}\n",
            "Accuracy = 0.887 +/- 0.033\n",
            "Recall = 0.444 +/- 0.184\n",
            "F1 = 0.506 +/- 0.069\n",
            "Best Accuracy = 0.942\n",
            "Best Recall = 0.810\n",
            "Best F1 = 0.642\n"
          ]
        }
      ]
    },
    {
      "cell_type": "code",
      "source": [
        "# XGB Classifier\n",
        "\n",
        "xgb_model = XGBClassifier(scale_pos_weight=(len(data_x) / sum(data_y_sars)),random_state=13)\n",
        "\n",
        "#Training model\n",
        "\n",
        "acc_xgb, recall_xgb, f1_xgb, max_acc_xgb, max_recall_xgb, max_f1_xgb = cross_validation(kf, xgb_model, sars_data)\n",
        "models.append('XGBC')\n",
        "acc_results.append(max_acc_xgb)\n",
        "recall_results.append(max_recall_xgb)\n",
        "f1_results.append(max_f1_xgb)"
      ],
      "metadata": {
        "colab": {
          "base_uri": "https://localhost:8080/"
        },
        "id": "f-vrraBrnYm5",
        "outputId": "aaf4d7d7-d633-48c1-b7d2-d3384322031f"
      },
      "execution_count": null,
      "outputs": [
        {
          "output_type": "stream",
          "name": "stdout",
          "text": [
            "Model Params = {'objective': 'binary:logistic', 'base_score': None, 'booster': None, 'callbacks': None, 'colsample_bylevel': None, 'colsample_bynode': None, 'colsample_bytree': None, 'device': None, 'early_stopping_rounds': None, 'enable_categorical': False, 'eval_metric': None, 'feature_types': None, 'gamma': None, 'grow_policy': None, 'importance_type': None, 'interaction_constraints': None, 'learning_rate': None, 'max_bin': None, 'max_cat_threshold': None, 'max_cat_to_onehot': None, 'max_delta_step': None, 'max_depth': None, 'max_leaves': None, 'min_child_weight': None, 'missing': nan, 'monotone_constraints': None, 'multi_strategy': None, 'n_estimators': None, 'n_jobs': None, 'num_parallel_tree': None, 'random_state': 13, 'reg_alpha': None, 'reg_lambda': None, 'sampling_method': None, 'scale_pos_weight': 7.253012048192771, 'subsample': None, 'tree_method': None, 'validate_parameters': None, 'verbosity': None}\n",
            "Accuracy = 0.902 +/- 0.041\n",
            "Recall = 0.627 +/- 0.142\n",
            "F1 = 0.640 +/- 0.106\n",
            "Best Accuracy = 0.958\n",
            "Best Recall = 0.889\n",
            "Best F1 = 0.762\n"
          ]
        }
      ]
    },
    {
      "cell_type": "code",
      "source": [
        "# Analyzing the final results\n",
        "\n",
        "results = pd.DataFrame({'Model': models, 'Accuracy': acc_results, 'Recall': recall_results, 'F1': f1_results})\n",
        "final = pd.concat([results], axis=1, keys=['data'])\n",
        "\n",
        "\n",
        "fig, ax1 = plt.subplots(figsize=(15,5))\n",
        "\n",
        "bar_width = 0.2\n",
        "bar1 = np.arange(len(results['Model']))\n",
        "bar2 = [x + bar_width for x in bar1]\n",
        "bar3 = [x + bar_width for x in bar2]\n",
        "\n",
        "ax1.bar(bar1, results['Accuracy'], width=bar_width, label='Accuracy')\n",
        "ax1.bar(bar2, results['Recall'],  width=bar_width, label='Recall')\n",
        "ax1.bar(bar3, results['F1'],  width=bar_width, label='F1')\n",
        "ax1.set_xticks([r + bar_width for r in range(len(results['Accuracy']))])\n",
        "ax1.set_xticklabels(results['Model'])\n",
        "ax1.set_title('data Model Performance')\n",
        "ax1.set_xlabel('Models')\n",
        "ax1.set_ylabel('Scores')\n",
        "ax1.legend(loc='lower right')\n",
        "\n",
        "plt.tight_layout()\n",
        "plt.show()\n",
        "\n",
        "final"
      ],
      "metadata": {
        "colab": {
          "base_uri": "https://localhost:8080/",
          "height": 639
        },
        "id": "mtF6sVjAoxmy",
        "outputId": "ee2dfc7a-3e77-41ed-cbd5-617906f9dfae"
      },
      "execution_count": null,
      "outputs": [
        {
          "output_type": "display_data",
          "data": {
            "text/plain": [
              "<Figure size 1500x500 with 1 Axes>"
            ],
            "image/png": "[encoded data removed]"
          },
          "metadata": {}
        },
        {
          "output_type": "execute_result",
          "data": {
            "text/plain": [
              "      data                              \n",
              "     Model  Accuracy    Recall        F1\n",
              "0      RFC  0.941667  0.444444  0.600000\n",
              "1      DTC  0.891667  0.631579  0.615385\n",
              "2  SKL_MLP  0.941667  0.809524  0.641509\n",
              "3     XGBC  0.958333  0.888889  0.761905"
            ],
            "text/html": [
              "\n",
              "  <div id=\"df-1ab6ab01-0542-4e3c-877d-7892706ccfde\" class=\"colab-df-container\">\n",
              "    <div>\n",
              "<style scoped>\n",
              "    .dataframe tbody tr th:only-of-type {\n",
              "        vertical-align: middle;\n",
              "    }\n",
              "\n",
              "    .dataframe tbody tr th {\n",
              "        vertical-align: top;\n",
              "    }\n",
              "\n",
              "    .dataframe thead tr th {\n",
              "        text-align: left;\n",
              "    }\n",
              "</style>\n",
              "<table border=\"1\" class=\"dataframe\">\n",
              "  <thead>\n",
              "    <tr>\n",
              "      <th></th>\n",
              "      <th colspan=\"4\" halign=\"left\">data</th>\n",
              "    </tr>\n",
              "    <tr>\n",
              "      <th></th>\n",
              "      <th>Model</th>\n",
              "      <th>Accuracy</th>\n",
              "      <th>Recall</th>\n",
              "      <th>F1</th>\n",
              "    </tr>\n",
              "  </thead>\n",
              "  <tbody>\n",
              "    <tr>\n",
              "      <th>0</th>\n",
              "      <td>RFC</td>\n",
              "      <td>0.941667</td>\n",
              "      <td>0.444444</td>\n",
              "      <td>0.600000</td>\n",
              "    </tr>\n",
              "    <tr>\n",
              "      <th>1</th>\n",
              "      <td>DTC</td>\n",
              "      <td>0.891667</td>\n",
              "      <td>0.631579</td>\n",
              "      <td>0.615385</td>\n",
              "    </tr>\n",
              "    <tr>\n",
              "      <th>2</th>\n",
              "      <td>SKL_MLP</td>\n",
              "      <td>0.941667</td>\n",
              "      <td>0.809524</td>\n",
              "      <td>0.641509</td>\n",
              "    </tr>\n",
              "    <tr>\n",
              "      <th>3</th>\n",
              "      <td>XGBC</td>\n",
              "      <td>0.958333</td>\n",
              "      <td>0.888889</td>\n",
              "      <td>0.761905</td>\n",
              "    </tr>\n",
              "  </tbody>\n",
              "</table>\n",
              "</div>\n",
              "    <div class=\"colab-df-buttons\">\n",
              "\n",
              "  <div class=\"colab-df-container\">\n",
              "    <button class=\"colab-df-convert\" onclick=\"convertToInteractive('df-1ab6ab01-0542-4e3c-877d-7892706ccfde')\"\n",
              "            title=\"Convert this dataframe to an interactive table.\"\n",
              "            style=\"display:none;\">\n",
              "\n",
              "  <svg xmlns=\"http://www.w3.org/2000/svg\" height=\"24px\" viewBox=\"0 -960 960 960\">\n",
              "    <path d=\"M120-120v-720h720v720H120Zm60-500h600v-160H180v160Zm220 220h160v-160H400v160Zm0 220h160v-160H400v160ZM180-400h160v-160H180v160Zm440 0h160v-160H620v160ZM180-180h160v-160H180v160Zm440 0h160v-160H620v160Z\"/>\n",
              "  </svg>\n",
              "    </button>\n",
              "\n",
              "  <style>\n",
              "    .colab-df-container {\n",
              "      display:flex;\n",
              "      gap: 12px;\n",
              "    }\n",
              "\n",
              "    .colab-df-convert {\n",
              "      background-color: #E8F0FE;\n",
              "      border: none;\n",
              "      border-radius: 50%;\n",
              "      cursor: pointer;\n",
              "      display: none;\n",
              "      fill: #1967D2;\n",
              "      height: 32px;\n",
              "      padding: 0 0 0 0;\n",
              "      width: 32px;\n",
              "    }\n",
              "\n",
              "    .colab-df-convert:hover {\n",
              "      background-color: #E2EBFA;\n",
              "      box-shadow: 0px 1px 2px rgba(60, 64, 67, 0.3), 0px 1px 3px 1px rgba(60, 64, 67, 0.15);\n",
              "      fill: #174EA6;\n",
              "    }\n",
              "\n",
              "    .colab-df-buttons div {\n",
              "      margin-bottom: 4px;\n",
              "    }\n",
              "\n",
              "    [theme=dark] .colab-df-convert {\n",
              "      background-color: #3B4455;\n",
              "      fill: #D2E3FC;\n",
              "    }\n",
              "\n",
              "    [theme=dark] .colab-df-convert:hover {\n",
              "      background-color: #434B5C;\n",
              "      box-shadow: 0px 1px 3px 1px rgba(0, 0, 0, 0.15);\n",
              "      filter: drop-shadow(0px 1px 2px rgba(0, 0, 0, 0.3));\n",
              "      fill: #FFFFFF;\n",
              "    }\n",
              "  </style>\n",
              "\n",
              "    <script>\n",
              "      const buttonEl =\n",
              "        document.querySelector('#df-1ab6ab01-0542-4e3c-877d-7892706ccfde button.colab-df-convert');\n",
              "      buttonEl.style.display =\n",
              "        google.colab.kernel.accessAllowed ? 'block' : 'none';\n",
              "\n",
              "      async function convertToInteractive(key) {\n",
              "        const element = document.querySelector('#df-1ab6ab01-0542-4e3c-877d-7892706ccfde');\n",
              "        const dataTable =\n",
              "          await google.colab.kernel.invokeFunction('convertToInteractive',\n",
              "                                                    [key], {});\n",
              "        if (!dataTable) return;\n",
              "\n",
              "        const docLinkHtml = 'Like what you see? Visit the ' +\n",
              "          '<a target=\"_blank\" href=https://colab.research.google.com/notebooks/data_table.ipynb>data table notebook</a>'\n",
              "          + ' to learn more about interactive tables.';\n",
              "        element.innerHTML = '';\n",
              "        dataTable['output_type'] = 'display_data';\n",
              "        await google.colab.output.renderOutput(dataTable, element);\n",
              "        const docLink = document.createElement('div');\n",
              "        docLink.innerHTML = docLinkHtml;\n",
              "        element.appendChild(docLink);\n",
              "      }\n",
              "    </script>\n",
              "  </div>\n",
              "\n",
              "\n",
              "<div id=\"df-cd2cafa1-f38b-4797-86d1-711f14aeb0fd\">\n",
              "  <button class=\"colab-df-quickchart\" onclick=\"quickchart('df-cd2cafa1-f38b-4797-86d1-711f14aeb0fd')\"\n",
              "            title=\"Suggest charts\"\n",
              "            style=\"display:none;\">\n",
              "\n",
              "<svg xmlns=\"http://www.w3.org/2000/svg\" height=\"24px\"viewBox=\"0 0 24 24\"\n",
              "     width=\"24px\">\n",
              "    <g>\n",
              "        <path d=\"M19 3H5c-1.1 0-2 .9-2 2v14c0 1.1.9 2 2 2h14c1.1 0 2-.9 2-2V5c0-1.1-.9-2-2-2zM9 17H7v-7h2v7zm4 0h-2V7h2v10zm4 0h-2v-4h2v4z\"/>\n",
              "    </g>\n",
              "</svg>\n",
              "  </button>\n",
              "\n",
              "<style>\n",
              "  .colab-df-quickchart {\n",
              "      --bg-color: #E8F0FE;\n",
              "      --fill-color: #1967D2;\n",
              "      --hover-bg-color: #E2EBFA;\n",
              "      --hover-fill-color: #174EA6;\n",
              "      --disabled-fill-color: #AAA;\n",
              "      --disabled-bg-color: #DDD;\n",
              "  }\n",
              "\n",
              "  [theme=dark] .colab-df-quickchart {\n",
              "      --bg-color: #3B4455;\n",
              "      --fill-color: #D2E3FC;\n",
              "      --hover-bg-color: #434B5C;\n",
              "      --hover-fill-color: #FFFFFF;\n",
              "      --disabled-bg-color: #3B4455;\n",
              "      --disabled-fill-color: #666;\n",
              "  }\n",
              "\n",
              "  .colab-df-quickchart {\n",
              "    background-color: var(--bg-color);\n",
              "    border: none;\n",
              "    border-radius: 50%;\n",
              "    cursor: pointer;\n",
              "    display: none;\n",
              "    fill: var(--fill-color);\n",
              "    height: 32px;\n",
              "    padding: 0;\n",
              "    width: 32px;\n",
              "  }\n",
              "\n",
              "  .colab-df-quickchart:hover {\n",
              "    background-color: var(--hover-bg-color);\n",
              "    box-shadow: 0 1px 2px rgba(60, 64, 67, 0.3), 0 1px 3px 1px rgba(60, 64, 67, 0.15);\n",
              "    fill: var(--button-hover-fill-color);\n",
              "  }\n",
              "\n",
              "  .colab-df-quickchart-complete:disabled,\n",
              "  .colab-df-quickchart-complete:disabled:hover {\n",
              "    background-color: var(--disabled-bg-color);\n",
              "    fill: var(--disabled-fill-color);\n",
              "    box-shadow: none;\n",
              "  }\n",
              "\n",
              "  .colab-df-spinner {\n",
              "    border: 2px solid var(--fill-color);\n",
              "    border-color: transparent;\n",
              "    border-bottom-color: var(--fill-color);\n",
              "    animation:\n",
              "      spin 1s steps(1) infinite;\n",
              "  }\n",
              "\n",
              "  @keyframes spin {\n",
              "    0% {\n",
              "      border-color: transparent;\n",
              "      border-bottom-color: var(--fill-color);\n",
              "      border-left-color: var(--fill-color);\n",
              "    }\n",
              "    20% {\n",
              "      border-color: transparent;\n",
              "      border-left-color: var(--fill-color);\n",
              "      border-top-color: var(--fill-color);\n",
              "    }\n",
              "    30% {\n",
              "      border-color: transparent;\n",
              "      border-left-color: var(--fill-color);\n",
              "      border-top-color: var(--fill-color);\n",
              "      border-right-color: var(--fill-color);\n",
              "    }\n",
              "    40% {\n",
              "      border-color: transparent;\n",
              "      border-right-color: var(--fill-color);\n",
              "      border-top-color: var(--fill-color);\n",
              "    }\n",
              "    60% {\n",
              "      border-color: transparent;\n",
              "      border-right-color: var(--fill-color);\n",
              "    }\n",
              "    80% {\n",
              "      border-color: transparent;\n",
              "      border-right-color: var(--fill-color);\n",
              "      border-bottom-color: var(--fill-color);\n",
              "    }\n",
              "    90% {\n",
              "      border-color: transparent;\n",
              "      border-bottom-color: var(--fill-color);\n",
              "    }\n",
              "  }\n",
              "</style>\n",
              "\n",
              "  <script>\n",
              "    async function quickchart(key) {\n",
              "      const quickchartButtonEl =\n",
              "        document.querySelector('#' + key + ' button');\n",
              "      quickchartButtonEl.disabled = true;  // To prevent multiple clicks.\n",
              "      quickchartButtonEl.classList.add('colab-df-spinner');\n",
              "      try {\n",
              "        const charts = await google.colab.kernel.invokeFunction(\n",
              "            'suggestCharts', [key], {});\n",
              "      } catch (error) {\n",
              "        console.error('Error during call to suggestCharts:', error);\n",
              "      }\n",
              "      quickchartButtonEl.classList.remove('colab-df-spinner');\n",
              "      quickchartButtonEl.classList.add('colab-df-quickchart-complete');\n",
              "    }\n",
              "    (() => {\n",
              "      let quickchartButtonEl =\n",
              "        document.querySelector('#df-cd2cafa1-f38b-4797-86d1-711f14aeb0fd button');\n",
              "      quickchartButtonEl.style.display =\n",
              "        google.colab.kernel.accessAllowed ? 'block' : 'none';\n",
              "    })();\n",
              "  </script>\n",
              "</div>\n",
              "\n",
              "  <div id=\"id_960e7435-b002-4f9c-a89e-2bd87da1b592\">\n",
              "    <style>\n",
              "      .colab-df-generate {\n",
              "        background-color: #E8F0FE;\n",
              "        border: none;\n",
              "        border-radius: 50%;\n",
              "        cursor: pointer;\n",
              "        display: none;\n",
              "        fill: #1967D2;\n",
              "        height: 32px;\n",
              "        padding: 0 0 0 0;\n",
              "        width: 32px;\n",
              "      }\n",
              "\n",
              "      .colab-df-generate:hover {\n",
              "        background-color: #E2EBFA;\n",
              "        box-shadow: 0px 1px 2px rgba(60, 64, 67, 0.3), 0px 1px 3px 1px rgba(60, 64, 67, 0.15);\n",
              "        fill: #174EA6;\n",
              "      }\n",
              "\n",
              "      [theme=dark] .colab-df-generate {\n",
              "        background-color: #3B4455;\n",
              "        fill: #D2E3FC;\n",
              "      }\n",
              "\n",
              "      [theme=dark] .colab-df-generate:hover {\n",
              "        background-color: #434B5C;\n",
              "        box-shadow: 0px 1px 3px 1px rgba(0, 0, 0, 0.15);\n",
              "        filter: drop-shadow(0px 1px 2px rgba(0, 0, 0, 0.3));\n",
              "        fill: #FFFFFF;\n",
              "      }\n",
              "    </style>\n",
              "    <button class=\"colab-df-generate\" onclick=\"generateWithVariable('final')\"\n",
              "            title=\"Generate code using this dataframe.\"\n",
              "            style=\"display:none;\">\n",
              "\n",
              "  <svg xmlns=\"http://www.w3.org/2000/svg\" height=\"24px\"viewBox=\"0 0 24 24\"\n",
              "       width=\"24px\">\n",
              "    <path d=\"M7,19H8.4L18.45,9,17,7.55,7,17.6ZM5,21V16.75L18.45,3.32a2,2,0,0,1,2.83,0l1.4,1.43a1.91,1.91,0,0,1,.58,1.4,1.91,1.91,0,0,1-.58,1.4L9.25,21ZM18.45,9,17,7.55Zm-12,3A5.31,5.31,0,0,0,4.9,8.1,5.31,5.31,0,0,0,1,6.5,5.31,5.31,0,0,0,4.9,4.9,5.31,5.31,0,0,0,6.5,1,5.31,5.31,0,0,0,8.1,4.9,5.31,5.31,0,0,0,12,6.5,5.46,5.46,0,0,0,6.5,12Z\"/>\n",
              "  </svg>\n",
              "    </button>\n",
              "    <script>\n",
              "      (() => {\n",
              "      const buttonEl =\n",
              "        document.querySelector('#id_960e7435-b002-4f9c-a89e-2bd87da1b592 button.colab-df-generate');\n",
              "      buttonEl.style.display =\n",
              "        google.colab.kernel.accessAllowed ? 'block' : 'none';\n",
              "\n",
              "      buttonEl.onclick = () => {\n",
              "        google.colab.notebook.generateWithVariable('final');\n",
              "      }\n",
              "      })();\n",
              "    </script>\n",
              "  </div>\n",
              "\n",
              "    </div>\n",
              "  </div>\n"
            ],
            "application/vnd.google.colaboratory.intrinsic+json": {
              "type": "dataframe",
              "variable_name": "final",
              "summary": "{\n  \"name\": \"final\",\n  \"rows\": 4,\n  \"fields\": [\n    {\n      \"column\": [\n        \"data\",\n        \"Model\"\n      ],\n      \"properties\": {\n        \"dtype\": \"string\",\n        \"num_unique_values\": 4,\n        \"samples\": [\n          \"DTC\",\n          \"XGBC\",\n          \"RFC\"\n        ],\n        \"semantic_type\": \"\",\n        \"description\": \"\"\n      }\n    },\n    {\n      \"column\": [\n        \"data\",\n        \"Accuracy\"\n      ],\n      \"properties\": {\n        \"dtype\": \"number\",\n        \"std\": 0.02886751345948127,\n        \"min\": 0.8916666666666667,\n        \"max\": 0.9583333333333334,\n        \"num_unique_values\": 3,\n        \"samples\": [\n          0.9416666666666667,\n          0.8916666666666667,\n          0.9583333333333334\n        ],\n        \"semantic_type\": \"\",\n        \"description\": \"\"\n      }\n    },\n    {\n      \"column\": [\n        \"data\",\n        \"Recall\"\n      ],\n      \"properties\": {\n        \"dtype\": \"number\",\n        \"std\": 0.1979066962367787,\n        \"min\": 0.4444444444444444,\n        \"max\": 0.8888888888888888,\n        \"num_unique_values\": 4,\n        \"samples\": [\n          0.631578947368421,\n          0.8888888888888888,\n          0.4444444444444444\n        ],\n        \"semantic_type\": \"\",\n        \"description\": \"\"\n      }\n    },\n    {\n      \"column\": [\n        \"data\",\n        \"F1\"\n      ],\n      \"properties\": {\n        \"dtype\": \"number\",\n        \"std\": 0.07349521860764116,\n        \"min\": 0.6,\n        \"max\": 0.7619047619047619,\n        \"num_unique_values\": 4,\n        \"samples\": [\n          0.6153846153846154,\n          0.7619047619047619,\n          0.6\n        ],\n        \"semantic_type\": \"\",\n        \"description\": \"\"\n      }\n    }\n  ]\n}"
            }
          },
          "metadata": {},
          "execution_count": 18
        }
      ]
    },
    {
      "cell_type": "code",
      "source": [
        "import pickle\n",
        "\n",
        "with open('model.pkl', 'wb') as file:\n",
        "  pickle.dump(xgb_model, file)"
      ],
      "metadata": {
        "id": "gls_0RafDinP"
      },
      "execution_count": null,
      "outputs": []
    },
    {
      "cell_type": "code",
      "source": [
        "# Display all column names in a structured format\n",
        "for i, column in enumerate(data_x.columns, start=1):\n",
        "    print(f\"{i}: {column}\")\n"
      ],
      "metadata": {
        "colab": {
          "base_uri": "https://localhost:8080/"
        },
        "id": "aoQ7r8ZFLAye",
        "outputId": "cf19885a-c9a8-4ef5-b93e-c400494f57c8"
      },
      "execution_count": null,
      "outputs": [
        {
          "output_type": "stream",
          "name": "stdout",
          "text": [
            "1: Patient age quantile\n",
            "2: Hematocrit\n",
            "3: Hemoglobin\n",
            "4: Platelets\n",
            "5: Mean platelet volume \n",
            "6: Red blood Cells\n",
            "7: Lymphocytes\n",
            "8: Mean corpuscular hemoglobin concentration (MCHC)\n",
            "9: Leukocytes\n",
            "10: Basophils\n",
            "11: Mean corpuscular hemoglobin (MCH)\n",
            "12: Eosinophils\n",
            "13: Mean corpuscular volume (MCV)\n",
            "14: Monocytes\n",
            "15: Red blood cell distribution width (RDW)\n",
            "16: Respiratory Syncytial Virus\n",
            "17: Influenza A\n",
            "18: Influenza B\n",
            "19: Parainfluenza 1\n",
            "20: CoronavirusNL63\n",
            "21: Rhinovirus/Enterovirus\n",
            "22: Coronavirus HKU1\n",
            "23: Parainfluenza 3\n",
            "24: Chlamydophila pneumoniae\n",
            "25: Adenovirus\n",
            "26: Parainfluenza 4\n",
            "27: Coronavirus229E\n",
            "28: CoronavirusOC43\n",
            "29: Inf A H1N1 2009\n",
            "30: Bordetella pertussis\n",
            "31: Metapneumovirus\n",
            "32: Parainfluenza 2\n",
            "33: Neutrophils\n",
            "34: Urea\n",
            "35: Proteina C reativa mg/dL\n",
            "36: Creatinine\n",
            "37: Potassium\n",
            "38: Sodium\n",
            "39: Strepto A\n"
          ]
        }
      ]
    },
    {
      "cell_type": "code",
      "source": [
        "# Print the first row\n",
        "print(data.iloc[1])\n"
      ],
      "metadata": {
        "colab": {
          "base_uri": "https://localhost:8080/"
        },
        "id": "cx8CkjhoRUHb",
        "outputId": "c6091f0a-890b-4037-ee58-956a05b5b232"
      },
      "execution_count": null,
      "outputs": [
        {
          "output_type": "stream",
          "name": "stdout",
          "text": [
            "Patient age quantile                                       1\n",
            "SARS-Cov-2 exam result                                     0\n",
            "Hematocrit                                         -1.571682\n",
            "Hemoglobin                                         -0.774212\n",
            "Platelets                                           1.429667\n",
            "Mean platelet volume                               -1.672222\n",
            "Red blood Cells                                    -0.850035\n",
            "Lymphocytes                                        -0.005738\n",
            "Mean corpuscular hemoglobin concentration (MCHC)    3.331071\n",
            "Leukocytes                                           0.36455\n",
            "Basophils                                          -0.223767\n",
            "Mean corpuscular hemoglobin (MCH)                   0.178175\n",
            "Eosinophils                                         1.018625\n",
            "Mean corpuscular volume (MCV)                      -1.336024\n",
            "Monocytes                                           0.068652\n",
            "Red blood cell distribution width (RDW)            -0.978899\n",
            "Respiratory Syncytial Virus                                0\n",
            "Influenza A                                                0\n",
            "Influenza B                                                0\n",
            "Parainfluenza 1                                            0\n",
            "CoronavirusNL63                                            0\n",
            "Rhinovirus/Enterovirus                                     0\n",
            "Coronavirus HKU1                                           0\n",
            "Parainfluenza 3                                            0\n",
            "Chlamydophila pneumoniae                                   0\n",
            "Adenovirus                                                 0\n",
            "Parainfluenza 4                                            0\n",
            "Coronavirus229E                                            0\n",
            "CoronavirusOC43                                            0\n",
            "Inf A H1N1 2009                                            0\n",
            "Bordetella pertussis                                       0\n",
            "Metapneumovirus                                            0\n",
            "Parainfluenza 2                                            0\n",
            "Neutrophils                                        -0.127395\n",
            "Urea                                               -0.067309\n",
            "Proteina C reativa mg/dL                           -0.286986\n",
            "Creatinine                                         -1.838623\n",
            "Potassium                                            0.93002\n",
            "Sodium                                              0.503132\n",
            "Strepto A                                                  0\n",
            "Name: 1, dtype: object\n"
          ]
        }
      ]
    }
  ]
}